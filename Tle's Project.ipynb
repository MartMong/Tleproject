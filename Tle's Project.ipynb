{
 "cells": [
  {
   "cell_type": "code",
   "execution_count": 34,
   "metadata": {},
   "outputs": [],
   "source": [
    "import pandas as pd\n",
    "import numpy as np"
   ]
  },
  {
   "cell_type": "code",
   "execution_count": 14,
   "metadata": {},
   "outputs": [],
   "source": [
    "data = pd.read_excel(\"data.xlsx\")"
   ]
  },
  {
   "cell_type": "code",
   "execution_count": 28,
   "metadata": {},
   "outputs": [],
   "source": [
    "data=data.loc[[1,2,3,4,5,6,7,8,9,10],[2557,2558,2559,2560]]"
   ]
  },
  {
   "cell_type": "code",
   "execution_count": 29,
   "metadata": {},
   "outputs": [
    {
     "data": {
      "text/html": [
       "<div>\n",
       "<style scoped>\n",
       "    .dataframe tbody tr th:only-of-type {\n",
       "        vertical-align: middle;\n",
       "    }\n",
       "\n",
       "    .dataframe tbody tr th {\n",
       "        vertical-align: top;\n",
       "    }\n",
       "\n",
       "    .dataframe thead th {\n",
       "        text-align: right;\n",
       "    }\n",
       "</style>\n",
       "<table border=\"1\" class=\"dataframe\">\n",
       "  <thead>\n",
       "    <tr style=\"text-align: right;\">\n",
       "      <th></th>\n",
       "      <th></th>\n",
       "      <th>2557</th>\n",
       "      <th>2558</th>\n",
       "      <th>2559</th>\n",
       "      <th>2560</th>\n",
       "    </tr>\n",
       "  </thead>\n",
       "  <tbody>\n",
       "    <tr>\n",
       "      <th>1.0</th>\n",
       "      <th>CPF</th>\n",
       "      <td>0.0545554</td>\n",
       "      <td>0.0728332</td>\n",
       "      <td>0.0635324</td>\n",
       "      <td>0.0709723</td>\n",
       "    </tr>\n",
       "    <tr>\n",
       "      <th>2.0</th>\n",
       "      <th>PM</th>\n",
       "      <td>0.0763942</td>\n",
       "      <td>0.0687758</td>\n",
       "      <td>0.0804505</td>\n",
       "      <td>0.0665336</td>\n",
       "    </tr>\n",
       "    <tr>\n",
       "      <th>3.0</th>\n",
       "      <th>TVO</th>\n",
       "      <td>0.0993049</td>\n",
       "      <td>0.117096</td>\n",
       "      <td>0.0769823</td>\n",
       "      <td>0.108225</td>\n",
       "    </tr>\n",
       "    <tr>\n",
       "      <th>4.0</th>\n",
       "      <th>LTX</th>\n",
       "      <td>0.106496</td>\n",
       "      <td>0.143678</td>\n",
       "      <td>0.130378</td>\n",
       "      <td>0.1221</td>\n",
       "    </tr>\n",
       "    <tr>\n",
       "      <th>5.0</th>\n",
       "      <th>SUC</th>\n",
       "      <td>0.067981</td>\n",
       "      <td>0.0848176</td>\n",
       "      <td>0.139665</td>\n",
       "      <td>0.0832639</td>\n",
       "    </tr>\n",
       "    <tr>\n",
       "      <th>6.0</th>\n",
       "      <th>TNL</th>\n",
       "      <td>0.0667111</td>\n",
       "      <td>0.0630517</td>\n",
       "      <td>0.0650195</td>\n",
       "      <td>0.0608643</td>\n",
       "    </tr>\n",
       "    <tr>\n",
       "      <th>7.0</th>\n",
       "      <th>KYE</th>\n",
       "      <td>0.110988</td>\n",
       "      <td>0.136426</td>\n",
       "      <td>0.130719</td>\n",
       "      <td>0.120773</td>\n",
       "    </tr>\n",
       "    <tr>\n",
       "      <th>8.0</th>\n",
       "      <th>JCT</th>\n",
       "      <td>0.0740741</td>\n",
       "      <td>0.0849618</td>\n",
       "      <td>0.0814332</td>\n",
       "      <td>0.0640205</td>\n",
       "    </tr>\n",
       "    <tr>\n",
       "      <th>9.0</th>\n",
       "      <th>OCC</th>\n",
       "      <td>0.0803213</td>\n",
       "      <td>0.0805153</td>\n",
       "      <td>0.0825083</td>\n",
       "      <td>0.0703235</td>\n",
       "    </tr>\n",
       "    <tr>\n",
       "      <th>10.0</th>\n",
       "      <th>S&amp;J</th>\n",
       "      <td>0.0766871</td>\n",
       "      <td>0.0942507</td>\n",
       "      <td>0.106045</td>\n",
       "      <td>0.063857</td>\n",
       "    </tr>\n",
       "  </tbody>\n",
       "</table>\n",
       "</div>"
      ],
      "text/plain": [
       "               2557       2558       2559       2560\n",
       "1.0  CPF  0.0545554  0.0728332  0.0635324  0.0709723\n",
       "2.0  PM   0.0763942  0.0687758  0.0804505  0.0665336\n",
       "3.0  TVO  0.0993049   0.117096  0.0769823   0.108225\n",
       "4.0  LTX   0.106496   0.143678   0.130378     0.1221\n",
       "5.0  SUC   0.067981  0.0848176   0.139665  0.0832639\n",
       "6.0  TNL  0.0667111  0.0630517  0.0650195  0.0608643\n",
       "7.0  KYE   0.110988   0.136426   0.130719   0.120773\n",
       "8.0  JCT  0.0740741  0.0849618  0.0814332  0.0640205\n",
       "9.0  OCC  0.0803213  0.0805153  0.0825083  0.0703235\n",
       "10.0 S&J  0.0766871  0.0942507   0.106045   0.063857"
      ]
     },
     "execution_count": 29,
     "metadata": {},
     "output_type": "execute_result"
    }
   ],
   "source": [
    "data"
   ]
  },
  {
   "cell_type": "code",
   "execution_count": 31,
   "metadata": {},
   "outputs": [],
   "source": [
    "data_array=data.as_matrix()"
   ]
  },
  {
   "cell_type": "code",
   "execution_count": 47,
   "metadata": {},
   "outputs": [],
   "source": [
    "mean=[]\n",
    "for i in range(len(data_array)):\n",
    "    mean.append(data_array[i].mean())"
   ]
  },
  {
   "cell_type": "code",
   "execution_count": 48,
   "metadata": {},
   "outputs": [
    {
     "data": {
      "text/plain": [
       "[0.06547332699215608,\n",
       " 0.07303852683974468,\n",
       " 0.10040207174281639,\n",
       " 0.1256631630324779,\n",
       " 0.0939318396449015,\n",
       " 0.0639116554200422,\n",
       " 0.12472633511826245,\n",
       " 0.07612238814755752,\n",
       " 0.0784170804793135,\n",
       " 0.085209830639915]"
      ]
     },
     "execution_count": 48,
     "metadata": {},
     "output_type": "execute_result"
    }
   ],
   "source": [
    "mean"
   ]
  },
  {
   "cell_type": "code",
   "execution_count": 49,
   "metadata": {
    "collapsed": true
   },
   "outputs": [
    {
     "ename": "AttributeError",
     "evalue": "'float' object has no attribute 'shape'",
     "output_type": "error",
     "traceback": [
      "\u001b[1;31m---------------------------------------------------------------------------\u001b[0m",
      "\u001b[1;31mAttributeError\u001b[0m                            Traceback (most recent call last)",
      "\u001b[1;32m<ipython-input-49-462426e0e57f>\u001b[0m in \u001b[0;36m<module>\u001b[1;34m()\u001b[0m\n\u001b[1;32m----> 1\u001b[1;33m \u001b[0mnp\u001b[0m\u001b[1;33m.\u001b[0m\u001b[0mcov\u001b[0m\u001b[1;33m(\u001b[0m\u001b[0mdata_array\u001b[0m\u001b[1;33m)\u001b[0m\u001b[1;33m\u001b[0m\u001b[0m\n\u001b[0m",
      "\u001b[1;32mc:\\users\\mart\\appdata\\local\\programs\\python\\python36-32\\lib\\site-packages\\numpy\\lib\\function_base.py\u001b[0m in \u001b[0;36mcov\u001b[1;34m(m, y, rowvar, bias, ddof, fweights, aweights)\u001b[0m\n\u001b[0;32m   3083\u001b[0m             \u001b[0mw\u001b[0m \u001b[1;33m*=\u001b[0m \u001b[0maweights\u001b[0m\u001b[1;33m\u001b[0m\u001b[0m\n\u001b[0;32m   3084\u001b[0m \u001b[1;33m\u001b[0m\u001b[0m\n\u001b[1;32m-> 3085\u001b[1;33m     \u001b[0mavg\u001b[0m\u001b[1;33m,\u001b[0m \u001b[0mw_sum\u001b[0m \u001b[1;33m=\u001b[0m \u001b[0maverage\u001b[0m\u001b[1;33m(\u001b[0m\u001b[0mX\u001b[0m\u001b[1;33m,\u001b[0m \u001b[0maxis\u001b[0m\u001b[1;33m=\u001b[0m\u001b[1;36m1\u001b[0m\u001b[1;33m,\u001b[0m \u001b[0mweights\u001b[0m\u001b[1;33m=\u001b[0m\u001b[0mw\u001b[0m\u001b[1;33m,\u001b[0m \u001b[0mreturned\u001b[0m\u001b[1;33m=\u001b[0m\u001b[1;32mTrue\u001b[0m\u001b[1;33m)\u001b[0m\u001b[1;33m\u001b[0m\u001b[0m\n\u001b[0m\u001b[0;32m   3086\u001b[0m     \u001b[0mw_sum\u001b[0m \u001b[1;33m=\u001b[0m \u001b[0mw_sum\u001b[0m\u001b[1;33m[\u001b[0m\u001b[1;36m0\u001b[0m\u001b[1;33m]\u001b[0m\u001b[1;33m\u001b[0m\u001b[0m\n\u001b[0;32m   3087\u001b[0m \u001b[1;33m\u001b[0m\u001b[0m\n",
      "\u001b[1;32mc:\\users\\mart\\appdata\\local\\programs\\python\\python36-32\\lib\\site-packages\\numpy\\lib\\function_base.py\u001b[0m in \u001b[0;36maverage\u001b[1;34m(a, axis, weights, returned)\u001b[0m\n\u001b[0;32m   1161\u001b[0m \u001b[1;33m\u001b[0m\u001b[0m\n\u001b[0;32m   1162\u001b[0m     \u001b[1;32mif\u001b[0m \u001b[0mreturned\u001b[0m\u001b[1;33m:\u001b[0m\u001b[1;33m\u001b[0m\u001b[0m\n\u001b[1;32m-> 1163\u001b[1;33m         \u001b[1;32mif\u001b[0m \u001b[0mscl\u001b[0m\u001b[1;33m.\u001b[0m\u001b[0mshape\u001b[0m \u001b[1;33m!=\u001b[0m \u001b[0mavg\u001b[0m\u001b[1;33m.\u001b[0m\u001b[0mshape\u001b[0m\u001b[1;33m:\u001b[0m\u001b[1;33m\u001b[0m\u001b[0m\n\u001b[0m\u001b[0;32m   1164\u001b[0m             \u001b[0mscl\u001b[0m \u001b[1;33m=\u001b[0m \u001b[0mnp\u001b[0m\u001b[1;33m.\u001b[0m\u001b[0mbroadcast_to\u001b[0m\u001b[1;33m(\u001b[0m\u001b[0mscl\u001b[0m\u001b[1;33m,\u001b[0m \u001b[0mavg\u001b[0m\u001b[1;33m.\u001b[0m\u001b[0mshape\u001b[0m\u001b[1;33m)\u001b[0m\u001b[1;33m.\u001b[0m\u001b[0mcopy\u001b[0m\u001b[1;33m(\u001b[0m\u001b[1;33m)\u001b[0m\u001b[1;33m\u001b[0m\u001b[0m\n\u001b[0;32m   1165\u001b[0m         \u001b[1;32mreturn\u001b[0m \u001b[0mavg\u001b[0m\u001b[1;33m,\u001b[0m \u001b[0mscl\u001b[0m\u001b[1;33m\u001b[0m\u001b[0m\n",
      "\u001b[1;31mAttributeError\u001b[0m: 'float' object has no attribute 'shape'"
     ]
    }
   ],
   "source": [
    "np.cov(data_array)"
   ]
  },
  {
   "cell_type": "code",
   "execution_count": 50,
   "metadata": {},
   "outputs": [
    {
     "data": {
      "text/plain": [
       "array([[0.05455537370430988, 0.07283321194464676, 0.06353240152477764,\n",
       "        0.07097232079488999],\n",
       "       [0.07639419404125286, 0.06877579092159561, 0.08045052292839903,\n",
       "        0.06653359946773121],\n",
       "       [0.09930486593843098, 0.117096018735363, 0.07698229407236336,\n",
       "        0.10822510822510822],\n",
       "       [0.10649627263045792, 0.14367816091954022, 0.1303780964797914,\n",
       "        0.12210012210012211],\n",
       "       [0.06798096532970768, 0.08481764206955048, 0.13966480446927373,\n",
       "        0.08326394671107411],\n",
       "       [0.066711140760507, 0.06305170239596469, 0.06501950585175552,\n",
       "        0.06086427267194157],\n",
       "       [0.11098779134295228, 0.1364256480218281, 0.13071895424836602,\n",
       "        0.12077294685990339],\n",
       "       [0.07407407407407407, 0.08496176720475786, 0.08143322475570033,\n",
       "        0.06402048655569782],\n",
       "       [0.08032128514056225, 0.08051529790660225, 0.08250825082508251,\n",
       "        0.07032348804500703],\n",
       "       [0.07668711656441718, 0.09425070688030161, 0.10604453870625663,\n",
       "        0.06385696040868455]], dtype=object)"
      ]
     },
     "execution_count": 50,
     "metadata": {},
     "output_type": "execute_result"
    }
   ],
   "source": [
    "data_array"
   ]
  }
 ],
 "metadata": {
  "kernelspec": {
   "display_name": "Python 3",
   "language": "python",
   "name": "python3"
  },
  "language_info": {
   "codemirror_mode": {
    "name": "ipython",
    "version": 3
   },
   "file_extension": ".py",
   "mimetype": "text/x-python",
   "name": "python",
   "nbconvert_exporter": "python",
   "pygments_lexer": "ipython3",
   "version": "3.6.4"
  }
 },
 "nbformat": 4,
 "nbformat_minor": 2
}
